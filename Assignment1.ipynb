{
 "cells": [
  {
   "cell_type": "code",
   "execution_count": 1,
   "id": "da039608",
   "metadata": {},
   "outputs": [],
   "source": [
    "import pandas as pd\n",
    "import numpy as np\n",
    "import matplotlib.pyplot as plt"
   ]
  },
  {
   "cell_type": "code",
   "execution_count": 28,
   "id": "05cfba43",
   "metadata": {},
   "outputs": [],
   "source": [
    "data= pd.read_csv(\"studentRecord.csv\")"
   ]
  },
  {
   "cell_type": "code",
   "execution_count": 29,
   "id": "2e15a577",
   "metadata": {},
   "outputs": [
    {
     "data": {
      "text/html": [
       "<div>\n",
       "<style scoped>\n",
       "    .dataframe tbody tr th:only-of-type {\n",
       "        vertical-align: middle;\n",
       "    }\n",
       "\n",
       "    .dataframe tbody tr th {\n",
       "        vertical-align: top;\n",
       "    }\n",
       "\n",
       "    .dataframe thead th {\n",
       "        text-align: right;\n",
       "    }\n",
       "</style>\n",
       "<table border=\"1\" class=\"dataframe\">\n",
       "  <thead>\n",
       "    <tr style=\"text-align: right;\">\n",
       "      <th></th>\n",
       "      <th>Student Name</th>\n",
       "      <th>Age</th>\n",
       "      <th>Gender</th>\n",
       "      <th>Mid term marks</th>\n",
       "      <th>Assignments</th>\n",
       "      <th>Final Term</th>\n",
       "      <th>Total</th>\n",
       "      <th>Performance Score</th>\n",
       "    </tr>\n",
       "  </thead>\n",
       "  <tbody>\n",
       "    <tr>\n",
       "      <th>0</th>\n",
       "      <td>Zain</td>\n",
       "      <td>19</td>\n",
       "      <td>1</td>\n",
       "      <td>25</td>\n",
       "      <td>1.0</td>\n",
       "      <td>20</td>\n",
       "      <td>46.0</td>\n",
       "      <td>50.0</td>\n",
       "    </tr>\n",
       "    <tr>\n",
       "      <th>1</th>\n",
       "      <td>Maryam</td>\n",
       "      <td>19</td>\n",
       "      <td>2</td>\n",
       "      <td>15</td>\n",
       "      <td>1.0</td>\n",
       "      <td>40</td>\n",
       "      <td>56.0</td>\n",
       "      <td>55.0</td>\n",
       "    </tr>\n",
       "    <tr>\n",
       "      <th>2</th>\n",
       "      <td>Talha</td>\n",
       "      <td>18</td>\n",
       "      <td>1</td>\n",
       "      <td>23</td>\n",
       "      <td>2.0</td>\n",
       "      <td>22</td>\n",
       "      <td>47.0</td>\n",
       "      <td>51.0</td>\n",
       "    </tr>\n",
       "    <tr>\n",
       "      <th>3</th>\n",
       "      <td>Saad</td>\n",
       "      <td>20</td>\n",
       "      <td>1</td>\n",
       "      <td>29</td>\n",
       "      <td>4.0</td>\n",
       "      <td>0</td>\n",
       "      <td>33.0</td>\n",
       "      <td>40.0</td>\n",
       "    </tr>\n",
       "    <tr>\n",
       "      <th>4</th>\n",
       "      <td>Wahab</td>\n",
       "      <td>19</td>\n",
       "      <td>1</td>\n",
       "      <td>30</td>\n",
       "      <td>6.0</td>\n",
       "      <td>50</td>\n",
       "      <td>86.0</td>\n",
       "      <td>88.0</td>\n",
       "    </tr>\n",
       "    <tr>\n",
       "      <th>...</th>\n",
       "      <td>...</td>\n",
       "      <td>...</td>\n",
       "      <td>...</td>\n",
       "      <td>...</td>\n",
       "      <td>...</td>\n",
       "      <td>...</td>\n",
       "      <td>...</td>\n",
       "      <td>...</td>\n",
       "    </tr>\n",
       "    <tr>\n",
       "      <th>64</th>\n",
       "      <td>kasahan</td>\n",
       "      <td>19</td>\n",
       "      <td>1</td>\n",
       "      <td>14</td>\n",
       "      <td>10.0</td>\n",
       "      <td>32</td>\n",
       "      <td>56.0</td>\n",
       "      <td>34.0</td>\n",
       "    </tr>\n",
       "    <tr>\n",
       "      <th>65</th>\n",
       "      <td>Sara</td>\n",
       "      <td>19</td>\n",
       "      <td>2</td>\n",
       "      <td>13</td>\n",
       "      <td>9.0</td>\n",
       "      <td>42</td>\n",
       "      <td>64.0</td>\n",
       "      <td>66.0</td>\n",
       "    </tr>\n",
       "    <tr>\n",
       "      <th>66</th>\n",
       "      <td>Taira</td>\n",
       "      <td>17</td>\n",
       "      <td>2</td>\n",
       "      <td>3</td>\n",
       "      <td>2.0</td>\n",
       "      <td>17</td>\n",
       "      <td>22.0</td>\n",
       "      <td>12.0</td>\n",
       "    </tr>\n",
       "    <tr>\n",
       "      <th>67</th>\n",
       "      <td>Saira</td>\n",
       "      <td>18</td>\n",
       "      <td>2</td>\n",
       "      <td>0</td>\n",
       "      <td>10.0</td>\n",
       "      <td>35</td>\n",
       "      <td>45.0</td>\n",
       "      <td>42.0</td>\n",
       "    </tr>\n",
       "    <tr>\n",
       "      <th>68</th>\n",
       "      <td>M Hadi</td>\n",
       "      <td>22</td>\n",
       "      <td>1</td>\n",
       "      <td>30</td>\n",
       "      <td>9.0</td>\n",
       "      <td>29</td>\n",
       "      <td>68.0</td>\n",
       "      <td>77.0</td>\n",
       "    </tr>\n",
       "  </tbody>\n",
       "</table>\n",
       "<p>69 rows × 8 columns</p>\n",
       "</div>"
      ],
      "text/plain": [
       "   Student Name  Age  Gender  Mid term marks  Assignments  Final Term  Total  \\\n",
       "0          Zain   19       1              25          1.0          20   46.0   \n",
       "1        Maryam   19       2              15          1.0          40   56.0   \n",
       "2         Talha   18       1              23          2.0          22   47.0   \n",
       "3          Saad   20       1              29          4.0           0   33.0   \n",
       "4         Wahab   19       1              30          6.0          50   86.0   \n",
       "..          ...  ...     ...             ...          ...         ...    ...   \n",
       "64      kasahan   19       1              14         10.0          32   56.0   \n",
       "65         Sara   19       2              13          9.0          42   64.0   \n",
       "66        Taira   17       2               3          2.0          17   22.0   \n",
       "67        Saira   18       2               0         10.0          35   45.0   \n",
       "68       M Hadi   22       1              30          9.0          29   68.0   \n",
       "\n",
       "    Performance Score  \n",
       "0                50.0  \n",
       "1                55.0  \n",
       "2                51.0  \n",
       "3                40.0  \n",
       "4                88.0  \n",
       "..                ...  \n",
       "64               34.0  \n",
       "65               66.0  \n",
       "66               12.0  \n",
       "67               42.0  \n",
       "68               77.0  \n",
       "\n",
       "[69 rows x 8 columns]"
      ]
     },
     "execution_count": 29,
     "metadata": {},
     "output_type": "execute_result"
    }
   ],
   "source": [
    "data"
   ]
  },
  {
   "cell_type": "code",
   "execution_count": 30,
   "id": "34adfefc",
   "metadata": {},
   "outputs": [],
   "source": [
    "X = data['Total']"
   ]
  },
  {
   "cell_type": "code",
   "execution_count": 32,
   "id": "3ae33997",
   "metadata": {},
   "outputs": [],
   "source": [
    "Y = data['Performance Score']"
   ]
  },
  {
   "cell_type": "code",
   "execution_count": 33,
   "id": "31dd148d",
   "metadata": {},
   "outputs": [
    {
     "data": {
      "text/plain": [
       "53.74637681159421"
      ]
     },
     "execution_count": 33,
     "metadata": {},
     "output_type": "execute_result"
    }
   ],
   "source": [
    "mean_x = np.mean(X)\n",
    "mean_x"
   ]
  },
  {
   "cell_type": "code",
   "execution_count": 34,
   "id": "0a1b2d2c",
   "metadata": {},
   "outputs": [
    {
     "data": {
      "text/plain": [
       "52.462318840579705"
      ]
     },
     "execution_count": 34,
     "metadata": {},
     "output_type": "execute_result"
    }
   ],
   "source": [
    "mean_y = np.mean(Y)\n",
    "mean_y"
   ]
  },
  {
   "cell_type": "code",
   "execution_count": 35,
   "id": "56411e08",
   "metadata": {},
   "outputs": [],
   "source": [
    "size = len(X)"
   ]
  },
  {
   "cell_type": "code",
   "execution_count": 36,
   "id": "26c1ea6f",
   "metadata": {},
   "outputs": [],
   "source": [
    "num = 0\n",
    "dem = 0\n",
    "\n",
    "for i in range(size):\n",
    "    num += (X[i] - mean_x) * (Y[i] - mean_y)\n",
    "    dem += (X[i] - mean_x) ** 2\n",
    "\n",
    "m = num / dem"
   ]
  },
  {
   "cell_type": "code",
   "execution_count": 37,
   "id": "bb3257da",
   "metadata": {},
   "outputs": [
    {
     "data": {
      "text/plain": [
       "1.041646459013148"
      ]
     },
     "execution_count": 37,
     "metadata": {},
     "output_type": "execute_result"
    }
   ],
   "source": [
    "m"
   ]
  },
  {
   "cell_type": "code",
   "execution_count": 38,
   "id": "a45ce946",
   "metadata": {},
   "outputs": [],
   "source": [
    "c = mean_y - (m * mean_x)"
   ]
  },
  {
   "cell_type": "code",
   "execution_count": 39,
   "id": "8c8ecbb0",
   "metadata": {},
   "outputs": [
    {
     "data": {
      "text/plain": [
       "-3.522404250003774"
      ]
     },
     "execution_count": 39,
     "metadata": {},
     "output_type": "execute_result"
    }
   ],
   "source": [
    "c"
   ]
  },
  {
   "cell_type": "code",
   "execution_count": 40,
   "id": "686c3385",
   "metadata": {},
   "outputs": [],
   "source": [
    "max_x = np.max(X) + 100\n",
    "min_x = np.min(X) - 100"
   ]
  },
  {
   "cell_type": "code",
   "execution_count": 41,
   "id": "5d1be90f",
   "metadata": {},
   "outputs": [],
   "source": [
    "x = np.linspace(min_x, max_x, 1000)\n",
    "y = m*x + c"
   ]
  },
  {
   "cell_type": "code",
   "execution_count": 42,
   "id": "e085ec28",
   "metadata": {},
   "outputs": [
    {
     "data": {
      "text/plain": [
       "<matplotlib.collections.PathCollection at 0x26c1cdcc8b0>"
      ]
     },
     "execution_count": 42,
     "metadata": {},
     "output_type": "execute_result"
    },
    {
     "data": {
      "image/png": "[encoded data removed]",
      "text/plain": [
       "<Figure size 640x480 with 1 Axes>"
      ]
     },
     "metadata": {},
     "output_type": "display_data"
    }
   ],
   "source": [
    "plt.plot(x, y)\n",
    "plt.scatter(X, Y, color=\"Red\")"
   ]
  },
  {
   "cell_type": "code",
   "execution_count": null,
   "id": "076e2917",
   "metadata": {},
   "outputs": [],
   "source": []
  }
 ],
 "metadata": {
  "kernelspec": {
   "display_name": "Python 3 (ipykernel)",
   "language": "python",
   "name": "python3"
  },
  "language_info": {
   "codemirror_mode": {
    "name": "ipython",
    "version": 3
   },
   "file_extension": ".py",
   "mimetype": "text/x-python",
   "name": "python",
   "nbconvert_exporter": "python",
   "pygments_lexer": "ipython3",
   "version": "3.9.13"
  }
 },
 "nbformat": 4,
 "nbformat_minor": 5
}
